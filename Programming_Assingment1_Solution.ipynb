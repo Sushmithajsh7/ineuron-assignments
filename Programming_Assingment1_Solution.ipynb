{
 "cells": [
  {
   "cell_type": "markdown",
   "id": "bc5bcd4f",
   "metadata": {},
   "source": [
    "Write a Python program to print \"Hello Python\"?\n",
    "\n",
    "Write a Python program to do arithmetical operations addition and division.? \n",
    "\n",
    "Write a Python program to find the area of a triangle?\n",
    "\n",
    "Write a Python program to swap two variables?\n",
    "\n",
    "Write a Python program to generate a random number?\n"
   ]
  },
  {
   "cell_type": "code",
   "execution_count": 1,
   "id": "e1da07dd",
   "metadata": {},
   "outputs": [
    {
     "name": "stdout",
     "output_type": "stream",
     "text": [
      "Hello Python\n"
     ]
    }
   ],
   "source": [
    "# Write a Python program to print \"Hello Python\"?\n",
    "print(\"Hello Python\")"
   ]
  },
  {
   "cell_type": "code",
   "execution_count": 2,
   "id": "63056e28",
   "metadata": {},
   "outputs": [
    {
     "name": "stdout",
     "output_type": "stream",
     "text": [
      "Sum : 30\n",
      "Division : 0.5\n"
     ]
    }
   ],
   "source": [
    "# Write a Python program to do arithmetical operations addition and division.? \n",
    "def arithmeticOperations(a,b):\n",
    "    print(\"Sum :\",a+b)\n",
    "    if(b!=0):\n",
    "        print(\"Division :\",a/b)\n",
    "    else:\n",
    "        print(\"Division by zero error!\")\n",
    "    \n",
    "arithmeticOperations(10,20)"
   ]
  },
  {
   "cell_type": "code",
   "execution_count": 3,
   "id": "2c6dc5be",
   "metadata": {},
   "outputs": [
    {
     "name": "stdout",
     "output_type": "stream",
     "text": [
      "100.0\n"
     ]
    }
   ],
   "source": [
    "# Write a Python program to find the area of a triangle?\n",
    "\n",
    "def areaOfTriangle(height,breadth):\n",
    "    return((height*breadth)/2)\n",
    "\n",
    "print(areaOfTriangle(10,20))"
   ]
  },
  {
   "cell_type": "code",
   "execution_count": 4,
   "id": "c110d7e0",
   "metadata": {},
   "outputs": [
    {
     "name": "stdout",
     "output_type": "stream",
     "text": [
      "Before Swapping : 10 20\n",
      "After Swapping : 20 10\n"
     ]
    }
   ],
   "source": [
    "# Write a Python program to swap two variables?\n",
    "\n",
    "var1 = 10\n",
    "var2 = 20\n",
    "print(\"Before Swapping :\" , var1, var2)\n",
    "temp = var1\n",
    "var1 = var2\n",
    "var2 = temp\n",
    "print(\"After Swapping :\" , var1, var2)"
   ]
  },
  {
   "cell_type": "code",
   "execution_count": 5,
   "id": "9b468e37",
   "metadata": {},
   "outputs": [
    {
     "name": "stdout",
     "output_type": "stream",
     "text": [
      "Random Number:  0.5772930251139541\n"
     ]
    }
   ],
   "source": [
    "# Write a Python program to generate a random number?\n",
    "import random\n",
    "print(\"Random Number: \" , random.random())"
   ]
  }
 ],
 "metadata": {
  "kernelspec": {
   "display_name": "Python 3 (ipykernel)",
   "language": "python",
   "name": "python3"
  },
  "language_info": {
   "codemirror_mode": {
    "name": "ipython",
    "version": 3
   },
   "file_extension": ".py",
   "mimetype": "text/x-python",
   "name": "python",
   "nbconvert_exporter": "python",
   "pygments_lexer": "ipython3",
   "version": "3.9.7"
  }
 },
 "nbformat": 4,
 "nbformat_minor": 5
}
